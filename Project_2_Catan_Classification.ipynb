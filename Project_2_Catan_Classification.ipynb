{
  "nbformat": 4,
  "nbformat_minor": 0,
  "metadata": {
    "colab": {
      "name": " Project 2_Catan_Classification",
      "provenance": [],
      "collapsed_sections": []
    },
    "kernelspec": {
      "name": "python3",
      "display_name": "Python 3"
    },
    "language_info": {
      "name": "python"
    }
  },
  "cells": [
    {
      "cell_type": "code",
      "metadata": {
        "id": "pQ0vG6P3DMy_"
      },
      "source": [
        "%%capture\n",
        "import sys\n",
        "!pip install category_encoders==2.*\n",
        "!pip install pandas-profiling==2.*\n",
        "!pip install pdpbox\n"
      ],
      "execution_count": 1,
      "outputs": []
    },
    {
      "cell_type": "code",
      "metadata": {
        "id": "a9LSEefzDniw",
        "colab": {
          "base_uri": "https://localhost:8080/"
        },
        "outputId": "547af620-d9bf-49c3-c824-755126e17e85"
      },
      "source": [
        "#Import Libraries\n",
        "import pandas as pd\n",
        "import numpy as np\n",
        "import matplotlib.pyplot as plt\n",
        "from sklearn.pipeline import make_pipeline\n",
        "from sklearn.impute import SimpleImputer\n",
        "from sklearn.ensemble import RandomForestClassifier\n",
        "from sklearn.linear_model import LogisticRegression\n",
        "from sklearn.preprocessing import StandardScaler\n",
        "from sklearn.linear_model import LogisticRegression\n",
        "from sklearn.metrics import accuracy_score\n",
        "from sklearn.tree import DecisionTreeClassifier, plot_tree\n",
        "from sklearn.metrics import classification_report, roc_curve, plot_confusion_matrix, plot_roc_curve, mean_absolute_error\n",
        "from sklearn.model_selection import train_test_split\n",
        "from category_encoders import OneHotEncoder, OrdinalEncoder\n",
        "from pandas_profiling import ProfileReport\n",
        "from sklearn.inspection import permutation_importance\n",
        "from sklearn.model_selection import RandomizedSearchCV "
      ],
      "execution_count": 2,
      "outputs": [
        {
          "output_type": "stream",
          "name": "stderr",
          "text": [
            "/usr/local/lib/python3.7/dist-packages/statsmodels/tools/_testing.py:19: FutureWarning: pandas.util.testing is deprecated. Use the functions in the public API at pandas.testing instead.\n",
            "  import pandas.util.testing as tm\n"
          ]
        }
      ]
    },
    {
      "cell_type": "code",
      "metadata": {
        "colab": {
          "base_uri": "https://localhost:8080/"
        },
        "id": "-doeZe9cEZ6I",
        "outputId": "52cf9d41-af3d-4b99-fa99-6b2803b002b0"
      },
      "source": [
        "from google.colab import drive\n",
        "drive.mount('/content/gdrive')\n",
        "#change your working directory\n",
        "%cd /content/gdrive/My Drive/kaggle/catan"
      ],
      "execution_count": 3,
      "outputs": [
        {
          "output_type": "stream",
          "name": "stdout",
          "text": [
            "Mounted at /content/gdrive\n",
            "/content/gdrive/My Drive/kaggle/catan\n"
          ]
        }
      ]
    },
    {
      "cell_type": "code",
      "metadata": {
        "colab": {
          "base_uri": "https://localhost:8080/"
        },
        "id": "H3vExc_lEZvd",
        "outputId": "0d57edea-29cc-426a-d0e7-11be751b9c74"
      },
      "source": [
        "!ls"
      ],
      "execution_count": 4,
      "outputs": [
        {
          "output_type": "stream",
          "name": "stdout",
          "text": [
            "catanstats.csv\n"
          ]
        }
      ]
    },
    {
      "cell_type": "markdown",
      "metadata": {
        "id": "1YJ6Z9OWd_t9"
      },
      "source": [
        "## Wrangle Data"
      ]
    },
    {
      "cell_type": "code",
      "metadata": {
        "id": "53HvL9y8EQmF"
      },
      "source": [
        "def wrangle(filepath):\n",
        "\n",
        "  catan = pd.read_csv(filepath,index_col='gameNum')\n",
        "  # creating a new target variable\n",
        "  catan['win'] = catan['points'].apply(lambda x: 0 if x <= 9 else 1)\n",
        "  # dropping the null value columns and unwanted columns\n",
        "  catan = catan.drop(columns=[\"me\",\n",
        "        'Unnamed: 18',\"Unnamed: 17\",\t\"Unnamed: 19\",\t\"Unnamed: 23\", 'Unnamed: 16',\n",
        "       'Unnamed: 25','points',\"Unnamed: 24\", 'tradeLoss',\"settlement2\",\"settlement1\",\"Unnamed: 26\",\"tribute\",\t'2','3','4','5','6','7','8','9','10','11','12'])\n",
        "\n",
        "\n",
        "  return catan\n",
        "catan = wrangle(\"catanstats.csv\")"
      ],
      "execution_count": 5,
      "outputs": []
    },
    {
      "cell_type": "code",
      "metadata": {
        "id": "jkOpUExwEQd7"
      },
      "source": [
        "# catan.head()\n",
        "# catan.shape"
      ],
      "execution_count": 6,
      "outputs": []
    },
    {
      "cell_type": "code",
      "metadata": {
        "id": "7TBK-XEpPXXj"
      },
      "source": [
        "# catan.isnull().sum()"
      ],
      "execution_count": 7,
      "outputs": []
    },
    {
      "cell_type": "code",
      "metadata": {
        "colab": {
          "base_uri": "https://localhost:8080/"
        },
        "id": "cw9zu6ppIinI",
        "outputId": "b067f6a5-cf60-449d-b5d4-dcea388f729f"
      },
      "source": [
        "catan[\"win\"].value_counts(normalize= True)*100"
      ],
      "execution_count": 8,
      "outputs": [
        {
          "output_type": "execute_result",
          "data": {
            "text/plain": [
              "0    75.0\n",
              "1    25.0\n",
              "Name: win, dtype: float64"
            ]
          },
          "metadata": {},
          "execution_count": 8
        }
      ]
    },
    {
      "cell_type": "markdown",
      "metadata": {
        "id": "rV4q_JC1dtiP"
      },
      "source": [
        "## Split Data"
      ]
    },
    {
      "cell_type": "markdown",
      "metadata": {
        "id": "oXIDLlPEJpeW"
      },
      "source": [
        "- **Target Attribute** : The target variable should be based on the overall dataset which if the target variable changes all observations and attributes will be changed. depend on the data set I choose is Catan. The Catan game is based on points so into a categorical and see win probability so that why I choose my target variable will be the points attribute.\n",
        "\n",
        "- **Leakage Feature**: By creating the new target variable (Win) and by taking the old target record and converting it. To avoid leakage we are dropping the old target column (Points)."
      ]
    },
    {
      "cell_type": "code",
      "metadata": {
        "id": "1EAQ_JxvVgsn"
      },
      "source": [
        "# Split Target Vector from our Feature Matrix\n",
        "target = 'win'\n",
        "X = catan.drop(columns = [target])\n",
        "y = catan[target]"
      ],
      "execution_count": 9,
      "outputs": []
    },
    {
      "cell_type": "code",
      "metadata": {
        "colab": {
          "base_uri": "https://localhost:8080/",
          "height": 232
        },
        "id": "jRv4huaF1oMz",
        "outputId": "45c0349b-6829-43e8-ad52-c8c6064fbb1f"
      },
      "source": [
        "X.head()"
      ],
      "execution_count": 10,
      "outputs": [
        {
          "output_type": "execute_result",
          "data": {
            "text/html": [
              "<div>\n",
              "<style scoped>\n",
              "    .dataframe tbody tr th:only-of-type {\n",
              "        vertical-align: middle;\n",
              "    }\n",
              "\n",
              "    .dataframe tbody tr th {\n",
              "        vertical-align: top;\n",
              "    }\n",
              "\n",
              "    .dataframe thead th {\n",
              "        text-align: right;\n",
              "    }\n",
              "</style>\n",
              "<table border=\"1\" class=\"dataframe\">\n",
              "  <thead>\n",
              "    <tr style=\"text-align: right;\">\n",
              "      <th></th>\n",
              "      <th>player</th>\n",
              "      <th>Unnamed: 20</th>\n",
              "      <th>Unnamed: 22</th>\n",
              "      <th>production</th>\n",
              "      <th>tradeGain</th>\n",
              "      <th>robberCardsGain</th>\n",
              "      <th>totalGain</th>\n",
              "      <th>robberCardsLoss</th>\n",
              "      <th>totalLoss</th>\n",
              "      <th>totalAvailable</th>\n",
              "    </tr>\n",
              "    <tr>\n",
              "      <th>gameNum</th>\n",
              "      <th></th>\n",
              "      <th></th>\n",
              "      <th></th>\n",
              "      <th></th>\n",
              "      <th></th>\n",
              "      <th></th>\n",
              "      <th></th>\n",
              "      <th></th>\n",
              "      <th></th>\n",
              "      <th></th>\n",
              "    </tr>\n",
              "  </thead>\n",
              "  <tbody>\n",
              "    <tr>\n",
              "      <th>1</th>\n",
              "      <td>1</td>\n",
              "      <td>C</td>\n",
              "      <td>L</td>\n",
              "      <td>38</td>\n",
              "      <td>5</td>\n",
              "      <td>2</td>\n",
              "      <td>45</td>\n",
              "      <td>2</td>\n",
              "      <td>16</td>\n",
              "      <td>29</td>\n",
              "    </tr>\n",
              "    <tr>\n",
              "      <th>1</th>\n",
              "      <td>2</td>\n",
              "      <td>W</td>\n",
              "      <td>L</td>\n",
              "      <td>48</td>\n",
              "      <td>8</td>\n",
              "      <td>6</td>\n",
              "      <td>62</td>\n",
              "      <td>1</td>\n",
              "      <td>20</td>\n",
              "      <td>42</td>\n",
              "    </tr>\n",
              "    <tr>\n",
              "      <th>1</th>\n",
              "      <td>3</td>\n",
              "      <td>W</td>\n",
              "      <td>O</td>\n",
              "      <td>44</td>\n",
              "      <td>14</td>\n",
              "      <td>9</td>\n",
              "      <td>67</td>\n",
              "      <td>4</td>\n",
              "      <td>28</td>\n",
              "      <td>39</td>\n",
              "    </tr>\n",
              "    <tr>\n",
              "      <th>1</th>\n",
              "      <td>4</td>\n",
              "      <td>L</td>\n",
              "      <td>L</td>\n",
              "      <td>42</td>\n",
              "      <td>12</td>\n",
              "      <td>0</td>\n",
              "      <td>54</td>\n",
              "      <td>6</td>\n",
              "      <td>30</td>\n",
              "      <td>24</td>\n",
              "    </tr>\n",
              "    <tr>\n",
              "      <th>2</th>\n",
              "      <td>1</td>\n",
              "      <td>O</td>\n",
              "      <td>W</td>\n",
              "      <td>60</td>\n",
              "      <td>15</td>\n",
              "      <td>16</td>\n",
              "      <td>91</td>\n",
              "      <td>10</td>\n",
              "      <td>38</td>\n",
              "      <td>53</td>\n",
              "    </tr>\n",
              "  </tbody>\n",
              "</table>\n",
              "</div>"
            ],
            "text/plain": [
              "         player Unnamed: 20  ... totalLoss  totalAvailable\n",
              "gameNum                      ...                          \n",
              "1             1           C  ...        16              29\n",
              "1             2           W  ...        20              42\n",
              "1             3           W  ...        28              39\n",
              "1             4           L  ...        30              24\n",
              "2             1           O  ...        38              53\n",
              "\n",
              "[5 rows x 10 columns]"
            ]
          },
          "metadata": {},
          "execution_count": 10
        }
      ]
    },
    {
      "cell_type": "markdown",
      "metadata": {
        "id": "RYf7tlg0drjH"
      },
      "source": [
        "## Training-Validation-Test Split"
      ]
    },
    {
      "cell_type": "code",
      "metadata": {
        "colab": {
          "base_uri": "https://localhost:8080/"
        },
        "id": "MgFzlmmhW52K",
        "outputId": "c0cffd4e-b22f-486c-c9fa-badd37689c57"
      },
      "source": [
        "X_train, X_test, y_train, y_test = train_test_split(X, y, test_size=0.14, random_state=42)\n",
        "X_train, X_val, y_train, y_val = train_test_split(X_train, y_train, test_size=0.14, random_state=42) \n",
        "\n",
        "print(X_train.shape)\n",
        "print(X_val.shape)\n",
        "print(y_train.shape)\n",
        "print(y_val.shape)\n",
        "print(X_test.shape)\n",
        "print(y_test.shape)"
      ],
      "execution_count": 11,
      "outputs": [
        {
          "output_type": "stream",
          "name": "stdout",
          "text": [
            "(147, 10)\n",
            "(24, 10)\n",
            "(147,)\n",
            "(24,)\n",
            "(29, 10)\n",
            "(29,)\n"
          ]
        }
      ]
    },
    {
      "cell_type": "markdown",
      "metadata": {
        "id": "CpWtcvxzfZHA"
      },
      "source": [
        "## Establish Baseline"
      ]
    },
    {
      "cell_type": "markdown",
      "metadata": {
        "id": "jnujJbJEUGZZ"
      },
      "source": [
        "- **Accuracy** : The baseline accuracy score will give the percentage win(25%) probability and also help the model prediction. Always classify to the Majority class, in other words, classify according to the prior.\n",
        "\n"
      ]
    },
    {
      "cell_type": "code",
      "metadata": {
        "colab": {
          "base_uri": "https://localhost:8080/"
        },
        "id": "tnjB4Uj2X4wo",
        "outputId": "c326fb9e-35d5-4532-f26d-e23813f3cf67"
      },
      "source": [
        "baseline_accuracy  = y_train.value_counts(normalize=True).max()\n",
        "print(\"Baseline Accuracy :\",baseline_accuracy)"
      ],
      "execution_count": 12,
      "outputs": [
        {
          "output_type": "stream",
          "name": "stdout",
          "text": [
            "Baseline Accuracy : 0.7482993197278912\n"
          ]
        }
      ]
    },
    {
      "cell_type": "markdown",
      "metadata": {
        "id": "Mn_lFPYyf3R8"
      },
      "source": [
        "## Build Models\n",
        "\n",
        "\n",
        "\n"
      ]
    },
    {
      "cell_type": "markdown",
      "metadata": {
        "id": "7yaincWdjHQY"
      },
      "source": [
        "- LogisticRegression\n",
        "\n",
        "\n"
      ]
    },
    {
      "cell_type": "code",
      "metadata": {
        "id": "oXDrvWebYafn"
      },
      "source": [
        "model_lr = make_pipeline(\n",
        "    OneHotEncoder(use_cat_names=True),\n",
        "    SimpleImputer(strategy='mean'),\n",
        "    StandardScaler(),\n",
        "    LogisticRegression(max_iter =160,random_state=42))\n",
        "\n",
        "# fit the model\n",
        "model_lr.fit(X_train, y_train);"
      ],
      "execution_count": 13,
      "outputs": []
    },
    {
      "cell_type": "markdown",
      "metadata": {
        "id": "5nzKUXGCiu_W"
      },
      "source": [
        "- RandomForestClassifier "
      ]
    },
    {
      "cell_type": "code",
      "metadata": {
        "id": "6bLLwqco6guS"
      },
      "source": [
        "model_rfc = make_pipeline(\n",
        "    OrdinalEncoder(),\n",
        "    SimpleImputer(),\n",
        "    RandomForestClassifier(random_state=42)\n",
        ")\n",
        "\n",
        "# fit the model\n",
        "model_rfc.fit(X_train, y_train);"
      ],
      "execution_count": 14,
      "outputs": []
    },
    {
      "cell_type": "markdown",
      "metadata": {
        "id": "5ALp7eDMi3Ac"
      },
      "source": [
        "- DecisionTreeClassifier"
      ]
    },
    {
      "cell_type": "code",
      "metadata": {
        "id": "IhQM5LuvwcfD"
      },
      "source": [
        "model_dt = make_pipeline(\n",
        "    OrdinalEncoder(), \n",
        "    SimpleImputer(),\n",
        "    DecisionTreeClassifier(random_state=42)\n",
        ")\n",
        "\n",
        "# fit the model\n",
        "model_dt.fit(X_train, y_train);"
      ],
      "execution_count": 15,
      "outputs": []
    },
    {
      "cell_type": "markdown",
      "metadata": {
        "id": "RTQMwrs8kcQ3"
      },
      "source": [
        "## GradientBoosting"
      ]
    },
    {
      "cell_type": "code",
      "metadata": {
        "id": "BZX0smrBbUuj"
      },
      "source": [
        "# YOUR CODE HERE\n",
        "from sklearn.ensemble import GradientBoostingClassifier\n",
        "from xgboost import XGBClassifier\n",
        "\n",
        "\n",
        "# pipeline is very similar to RandomForest\n",
        "model_boost = make_pipeline(\n",
        "    OrdinalEncoder(),\n",
        "    SimpleImputer(),\n",
        "    GradientBoostingClassifier(random_state=42)\n",
        ")\n",
        "\n",
        "# fit the model\n",
        "model_boost.fit(X_train, y_train);"
      ],
      "execution_count": 16,
      "outputs": []
    },
    {
      "cell_type": "markdown",
      "metadata": {
        "id": "Si4reJ-chNWY"
      },
      "source": [
        "## Tuning the Model\n",
        "\n",
        "- RandomizedSearchCV"
      ]
    },
    {
      "cell_type": "code",
      "metadata": {
        "id": "xdpysRwOLXxy",
        "colab": {
          "base_uri": "https://localhost:8080/"
        },
        "outputId": "e9cc2405-5623-4df0-c5e3-a58de41849f0"
      },
      "source": [
        "from scipy.stats import randint, uniform\n",
        "clf = make_pipeline(OrdinalEncoder(),\n",
        "                    SimpleImputer(),\n",
        "                    RandomForestClassifier(random_state=42)\n",
        "                    )\n",
        "param_grid = {\n",
        "    'simpleimputer__strategy':['mean','median','mode'],\n",
        "    'randomforestclassifier__max_depth':range(20,150,10),\n",
        "    'randomforestclassifier__n_estimators':range(20,200,20),\n",
        "\n",
        "\n",
        "}\n",
        "\n",
        "model = RandomizedSearchCV(\n",
        "    clf,\n",
        "    param_distributions = param_grid,\n",
        "    n_jobs = -1,\n",
        "    cv = 7,\n",
        "    verbose = 40,\n",
        "    n_iter = 30\n",
        ")\n",
        "\n",
        "# fit the model\n",
        "model.fit(X_train,y_train);"
      ],
      "execution_count": 17,
      "outputs": [
        {
          "output_type": "stream",
          "name": "stdout",
          "text": [
            "Fitting 7 folds for each of 30 candidates, totalling 210 fits\n"
          ]
        },
        {
          "output_type": "stream",
          "name": "stderr",
          "text": [
            "[Parallel(n_jobs=-1)]: Using backend LokyBackend with 2 concurrent workers.\n",
            "[Parallel(n_jobs=-1)]: Done   1 tasks      | elapsed:    2.0s\n",
            "[Parallel(n_jobs=-1)]: Done   2 tasks      | elapsed:    2.2s\n",
            "[Parallel(n_jobs=-1)]: Done   3 tasks      | elapsed:    2.4s\n",
            "[Parallel(n_jobs=-1)]: Done   4 tasks      | elapsed:    2.6s\n",
            "[Parallel(n_jobs=-1)]: Done   5 tasks      | elapsed:    2.9s\n",
            "[Parallel(n_jobs=-1)]: Done   6 tasks      | elapsed:    3.1s\n",
            "[Parallel(n_jobs=-1)]: Done   7 tasks      | elapsed:    3.3s\n",
            "[Parallel(n_jobs=-1)]: Done   8 tasks      | elapsed:    3.5s\n",
            "[Parallel(n_jobs=-1)]: Done   9 tasks      | elapsed:    3.7s\n",
            "[Parallel(n_jobs=-1)]: Done  10 tasks      | elapsed:    3.9s\n",
            "[Parallel(n_jobs=-1)]: Done  11 tasks      | elapsed:    4.0s\n",
            "[Parallel(n_jobs=-1)]: Done  12 tasks      | elapsed:    4.3s\n",
            "[Parallel(n_jobs=-1)]: Done  13 tasks      | elapsed:    4.4s\n",
            "[Parallel(n_jobs=-1)]: Done  14 tasks      | elapsed:    4.7s\n",
            "[Parallel(n_jobs=-1)]: Done  15 tasks      | elapsed:    4.9s\n",
            "[Parallel(n_jobs=-1)]: Done  16 tasks      | elapsed:    5.1s\n",
            "[Parallel(n_jobs=-1)]: Done  17 tasks      | elapsed:    5.4s\n",
            "[Parallel(n_jobs=-1)]: Done  18 tasks      | elapsed:    5.6s\n",
            "[Parallel(n_jobs=-1)]: Done  19 tasks      | elapsed:    5.9s\n",
            "[Parallel(n_jobs=-1)]: Done  20 tasks      | elapsed:    6.2s\n",
            "[Parallel(n_jobs=-1)]: Done  21 tasks      | elapsed:    6.3s\n",
            "[Parallel(n_jobs=-1)]: Done  22 tasks      | elapsed:    6.4s\n",
            "[Parallel(n_jobs=-1)]: Done  23 tasks      | elapsed:    6.4s\n",
            "[Parallel(n_jobs=-1)]: Done  24 tasks      | elapsed:    6.5s\n",
            "[Parallel(n_jobs=-1)]: Done  25 tasks      | elapsed:    6.6s\n",
            "[Parallel(n_jobs=-1)]: Done  26 tasks      | elapsed:    6.7s\n",
            "[Parallel(n_jobs=-1)]: Done  27 tasks      | elapsed:    6.7s\n",
            "[Parallel(n_jobs=-1)]: Done  28 tasks      | elapsed:    6.8s\n",
            "[Parallel(n_jobs=-1)]: Done  29 tasks      | elapsed:    6.9s\n",
            "[Parallel(n_jobs=-1)]: Done  30 tasks      | elapsed:    7.0s\n",
            "[Parallel(n_jobs=-1)]: Done  31 tasks      | elapsed:    7.1s\n",
            "[Parallel(n_jobs=-1)]: Done  32 tasks      | elapsed:    7.2s\n",
            "[Parallel(n_jobs=-1)]: Done  33 tasks      | elapsed:    7.3s\n",
            "[Parallel(n_jobs=-1)]: Done  34 tasks      | elapsed:    7.4s\n",
            "[Parallel(n_jobs=-1)]: Done  35 tasks      | elapsed:    7.5s\n",
            "[Parallel(n_jobs=-1)]: Done  36 tasks      | elapsed:    7.8s\n",
            "[Parallel(n_jobs=-1)]: Done  37 tasks      | elapsed:    7.9s\n",
            "[Parallel(n_jobs=-1)]: Done  38 tasks      | elapsed:    8.1s\n",
            "[Parallel(n_jobs=-1)]: Done  39 tasks      | elapsed:    8.3s\n",
            "[Parallel(n_jobs=-1)]: Done  40 tasks      | elapsed:    8.5s\n",
            "[Parallel(n_jobs=-1)]: Done  41 tasks      | elapsed:    8.7s\n",
            "[Parallel(n_jobs=-1)]: Done  42 tasks      | elapsed:    8.9s\n",
            "[Parallel(n_jobs=-1)]: Done  43 tasks      | elapsed:    9.0s\n",
            "[Parallel(n_jobs=-1)]: Done  44 tasks      | elapsed:    9.2s\n",
            "[Parallel(n_jobs=-1)]: Done  45 tasks      | elapsed:    9.4s\n",
            "[Parallel(n_jobs=-1)]: Done  46 tasks      | elapsed:    9.6s\n",
            "[Parallel(n_jobs=-1)]: Done  47 tasks      | elapsed:    9.7s\n",
            "[Parallel(n_jobs=-1)]: Done  48 tasks      | elapsed:    9.9s\n",
            "[Parallel(n_jobs=-1)]: Done  49 tasks      | elapsed:    9.9s\n",
            "[Parallel(n_jobs=-1)]: Done  50 tasks      | elapsed:   10.0s\n",
            "[Parallel(n_jobs=-1)]: Done  51 tasks      | elapsed:   10.0s\n",
            "[Parallel(n_jobs=-1)]: Done  52 tasks      | elapsed:   10.0s\n",
            "[Parallel(n_jobs=-1)]: Done  53 tasks      | elapsed:   10.0s\n",
            "[Parallel(n_jobs=-1)]: Done  54 tasks      | elapsed:   10.1s\n",
            "[Parallel(n_jobs=-1)]: Done  55 tasks      | elapsed:   10.1s\n",
            "[Parallel(n_jobs=-1)]: Done  56 tasks      | elapsed:   10.1s\n",
            "[Parallel(n_jobs=-1)]: Done  57 tasks      | elapsed:   10.4s\n",
            "[Parallel(n_jobs=-1)]: Done  58 tasks      | elapsed:   10.4s\n",
            "[Parallel(n_jobs=-1)]: Done  59 tasks      | elapsed:   10.7s\n",
            "[Parallel(n_jobs=-1)]: Done  60 tasks      | elapsed:   10.7s\n",
            "[Parallel(n_jobs=-1)]: Done  61 tasks      | elapsed:   11.0s\n",
            "[Parallel(n_jobs=-1)]: Done  62 tasks      | elapsed:   11.0s\n",
            "[Parallel(n_jobs=-1)]: Done  63 tasks      | elapsed:   11.3s\n",
            "[Parallel(n_jobs=-1)]: Done  64 tasks      | elapsed:   11.3s\n",
            "[Parallel(n_jobs=-1)]: Done  65 tasks      | elapsed:   11.6s\n",
            "[Parallel(n_jobs=-1)]: Done  66 tasks      | elapsed:   11.6s\n",
            "[Parallel(n_jobs=-1)]: Done  67 tasks      | elapsed:   11.9s\n",
            "[Parallel(n_jobs=-1)]: Done  68 tasks      | elapsed:   11.9s\n",
            "[Parallel(n_jobs=-1)]: Done  69 tasks      | elapsed:   12.1s\n",
            "[Parallel(n_jobs=-1)]: Done  70 tasks      | elapsed:   12.2s\n",
            "[Parallel(n_jobs=-1)]: Done  71 tasks      | elapsed:   12.3s\n",
            "[Parallel(n_jobs=-1)]: Done  72 tasks      | elapsed:   12.3s\n",
            "[Parallel(n_jobs=-1)]: Done  73 tasks      | elapsed:   12.4s\n",
            "[Parallel(n_jobs=-1)]: Done  74 tasks      | elapsed:   12.5s\n",
            "[Parallel(n_jobs=-1)]: Done  75 tasks      | elapsed:   12.6s\n",
            "[Parallel(n_jobs=-1)]: Done  76 tasks      | elapsed:   12.6s\n",
            "[Parallel(n_jobs=-1)]: Done  77 tasks      | elapsed:   12.7s\n",
            "[Parallel(n_jobs=-1)]: Done  78 tasks      | elapsed:   12.9s\n",
            "[Parallel(n_jobs=-1)]: Done  79 tasks      | elapsed:   12.9s\n",
            "[Parallel(n_jobs=-1)]: Done  80 tasks      | elapsed:   13.1s\n",
            "[Parallel(n_jobs=-1)]: Done  81 tasks      | elapsed:   13.2s\n",
            "[Parallel(n_jobs=-1)]: Done  82 tasks      | elapsed:   13.4s\n",
            "[Parallel(n_jobs=-1)]: Done  83 tasks      | elapsed:   13.4s\n",
            "[Parallel(n_jobs=-1)]: Done  84 tasks      | elapsed:   13.5s\n",
            "[Parallel(n_jobs=-1)]: Done  85 tasks      | elapsed:   13.5s\n",
            "[Parallel(n_jobs=-1)]: Done  86 tasks      | elapsed:   13.5s\n",
            "[Parallel(n_jobs=-1)]: Done  87 tasks      | elapsed:   13.5s\n",
            "[Parallel(n_jobs=-1)]: Done  88 tasks      | elapsed:   13.6s\n",
            "[Parallel(n_jobs=-1)]: Done  89 tasks      | elapsed:   13.6s\n",
            "[Parallel(n_jobs=-1)]: Batch computation too fast (0.1908s.) Setting batch_size=2.\n",
            "[Parallel(n_jobs=-1)]: Done  90 tasks      | elapsed:   13.6s\n",
            "[Parallel(n_jobs=-1)]: Done  91 tasks      | elapsed:   13.6s\n",
            "[Parallel(n_jobs=-1)]: Done  92 tasks      | elapsed:   14.0s\n",
            "[Parallel(n_jobs=-1)]: Done  94 tasks      | elapsed:   14.4s\n",
            "[Parallel(n_jobs=-1)]: Done  96 tasks      | elapsed:   14.7s\n",
            "[Parallel(n_jobs=-1)]: Done  98 tasks      | elapsed:   15.2s\n",
            "[Parallel(n_jobs=-1)]: Done 100 tasks      | elapsed:   15.4s\n",
            "[Parallel(n_jobs=-1)]: Done 102 tasks      | elapsed:   15.9s\n",
            "[Parallel(n_jobs=-1)]: Done 104 tasks      | elapsed:   16.1s\n",
            "[Parallel(n_jobs=-1)]: Done 106 tasks      | elapsed:   16.1s\n",
            "[Parallel(n_jobs=-1)]: Done 108 tasks      | elapsed:   16.2s\n",
            "[Parallel(n_jobs=-1)]: Done 110 tasks      | elapsed:   16.2s\n",
            "[Parallel(n_jobs=-1)]: Done 112 tasks      | elapsed:   16.2s\n",
            "[Parallel(n_jobs=-1)]: Done 114 tasks      | elapsed:   16.3s\n",
            "[Parallel(n_jobs=-1)]: Done 116 tasks      | elapsed:   16.3s\n",
            "[Parallel(n_jobs=-1)]: Done 118 tasks      | elapsed:   16.3s\n",
            "[Parallel(n_jobs=-1)]: Done 120 tasks      | elapsed:   16.4s\n",
            "[Parallel(n_jobs=-1)]: Done 122 tasks      | elapsed:   16.4s\n",
            "[Parallel(n_jobs=-1)]: Done 124 tasks      | elapsed:   16.4s\n",
            "[Parallel(n_jobs=-1)]: Done 126 tasks      | elapsed:   16.4s\n",
            "[Parallel(n_jobs=-1)]: Done 128 tasks      | elapsed:   17.0s\n",
            "[Parallel(n_jobs=-1)]: Done 130 tasks      | elapsed:   17.0s\n",
            "[Parallel(n_jobs=-1)]: Done 132 tasks      | elapsed:   17.3s\n",
            "[Parallel(n_jobs=-1)]: Done 134 tasks      | elapsed:   17.4s\n",
            "[Parallel(n_jobs=-1)]: Done 136 tasks      | elapsed:   17.4s\n",
            "[Parallel(n_jobs=-1)]: Done 138 tasks      | elapsed:   17.5s\n",
            "[Parallel(n_jobs=-1)]: Done 140 tasks      | elapsed:   17.5s\n",
            "[Parallel(n_jobs=-1)]: Done 142 tasks      | elapsed:   17.5s\n",
            "[Parallel(n_jobs=-1)]: Done 144 tasks      | elapsed:   17.5s\n",
            "[Parallel(n_jobs=-1)]: Done 146 tasks      | elapsed:   17.6s\n",
            "[Parallel(n_jobs=-1)]: Done 148 tasks      | elapsed:   17.9s\n",
            "[Parallel(n_jobs=-1)]: Done 150 tasks      | elapsed:   18.2s\n",
            "[Parallel(n_jobs=-1)]: Done 152 tasks      | elapsed:   18.4s\n",
            "[Parallel(n_jobs=-1)]: Done 154 tasks      | elapsed:   18.6s\n",
            "[Parallel(n_jobs=-1)]: Done 156 tasks      | elapsed:   18.7s\n",
            "[Parallel(n_jobs=-1)]: Done 158 tasks      | elapsed:   18.8s\n",
            "[Parallel(n_jobs=-1)]: Done 160 tasks      | elapsed:   18.9s\n",
            "[Parallel(n_jobs=-1)]: Done 162 tasks      | elapsed:   19.1s\n",
            "[Parallel(n_jobs=-1)]: Done 164 tasks      | elapsed:   19.2s\n",
            "[Parallel(n_jobs=-1)]: Done 166 tasks      | elapsed:   19.4s\n",
            "[Parallel(n_jobs=-1)]: Done 168 tasks      | elapsed:   19.5s\n",
            "[Parallel(n_jobs=-1)]: Done 170 tasks      | elapsed:   19.5s\n",
            "[Parallel(n_jobs=-1)]: Done 172 tasks      | elapsed:   19.6s\n",
            "[Parallel(n_jobs=-1)]: Done 174 tasks      | elapsed:   19.6s\n",
            "[Parallel(n_jobs=-1)]: Done 176 tasks      | elapsed:   19.8s\n",
            "[Parallel(n_jobs=-1)]: Done 178 tasks      | elapsed:   20.1s\n",
            "[Parallel(n_jobs=-1)]: Done 180 tasks      | elapsed:   20.3s\n",
            "[Parallel(n_jobs=-1)]: Done 182 tasks      | elapsed:   20.3s\n",
            "[Parallel(n_jobs=-1)]: Done 184 tasks      | elapsed:   20.4s\n",
            "[Parallel(n_jobs=-1)]: Done 186 tasks      | elapsed:   20.4s\n",
            "[Parallel(n_jobs=-1)]: Done 188 tasks      | elapsed:   20.4s\n",
            "[Parallel(n_jobs=-1)]: Done 190 tasks      | elapsed:   20.5s\n",
            "[Parallel(n_jobs=-1)]: Done 192 tasks      | elapsed:   20.5s\n",
            "[Parallel(n_jobs=-1)]: Done 194 tasks      | elapsed:   20.5s\n",
            "[Parallel(n_jobs=-1)]: Done 196 tasks      | elapsed:   20.6s\n",
            "[Parallel(n_jobs=-1)]: Done 198 tasks      | elapsed:   20.6s\n",
            "[Parallel(n_jobs=-1)]: Batch computation too fast (0.1888s.) Setting batch_size=4.\n",
            "[Parallel(n_jobs=-1)]: Done 200 tasks      | elapsed:   20.7s\n",
            "[Parallel(n_jobs=-1)]: Done 202 tasks      | elapsed:   20.7s\n",
            "[Parallel(n_jobs=-1)]: Done 204 tasks      | elapsed:   20.9s\n",
            "[Parallel(n_jobs=-1)]: Done 205 tasks      | elapsed:   20.9s\n",
            "[Parallel(n_jobs=-1)]: Done 206 tasks      | elapsed:   21.1s\n",
            "[Parallel(n_jobs=-1)]: Done 207 tasks      | elapsed:   21.1s\n",
            "[Parallel(n_jobs=-1)]: Done 210 out of 210 | elapsed:   21.3s finished\n"
          ]
        }
      ]
    },
    {
      "cell_type": "markdown",
      "metadata": {
        "id": "fbsM9jNe8PEj"
      },
      "source": [
        "## Evaluate Model Performance(Check Matrics)\n",
        "\n",
        "\n",
        "- Classification Metrics"
      ]
    },
    {
      "cell_type": "code",
      "metadata": {
        "colab": {
          "base_uri": "https://localhost:8080/"
        },
        "id": "nlocUPTEL2uh",
        "outputId": "af7a3c9d-5dcc-4d8a-8c58-9f643930d80c"
      },
      "source": [
        "print('Logestic Regression')\n",
        "print('model_lr accuracy score for training', accuracy_score(y_train, model_lr.predict(X_train)))\n",
        "print('model_lr accuracy score for val', accuracy_score(y_val, model_lr.predict(X_val)))\n",
        "\n",
        "print()\n",
        "print('Random Forest Classifier')\n",
        "print(\"Classification Accuracy:\", model_rfc.score(X_train, y_train))\n",
        "print(\"Validation Accuracy:\", model_rfc.score(X_val, y_val))\n",
        "\n",
        "print()\n",
        "print('Decision Tree Classifier')\n",
        "print('model_dt accuracy score for training', accuracy_score(y_train, model_dt.predict(X_train)))\n",
        "print('model_dt accuracy score for val', accuracy_score(y_val, model_dt.predict(X_val)))\n",
        "\n",
        "print()\n",
        "print('RandomizedSearchCV')\n",
        "print('Best score for `model`:', model.best_score_)\n",
        "print('Best params for `model`:', model.best_params_)\n",
        "\n",
        "print()\n",
        "print('Boosting Model')\n",
        "print('Training accuracy:', model_boost.score(X_train, y_train))\n",
        "print('Validation accuracy:', model_boost.score(X_val, y_val))"
      ],
      "execution_count": 18,
      "outputs": [
        {
          "output_type": "stream",
          "name": "stdout",
          "text": [
            "Logestic Regression\n",
            "model_lr accuracy score for training 0.8571428571428571\n",
            "model_lr accuracy score for val 0.7083333333333334\n",
            "\n",
            "Random Forest Classifier\n",
            "Classification Accuracy: 1.0\n",
            "Validation Accuracy: 0.8333333333333334\n",
            "\n",
            "Decision Tree Classifier\n",
            "model_dt accuracy score for training 1.0\n",
            "model_dt accuracy score for val 0.75\n",
            "\n",
            "RandomizedSearchCV\n",
            "Best score for `model`: 0.802721088435374\n",
            "Best params for `model`: {'simpleimputer__strategy': 'mean', 'randomforestclassifier__n_estimators': 20, 'randomforestclassifier__max_depth': 80}\n",
            "\n",
            "Boosting Model\n",
            "Training accuracy: 1.0\n",
            "Validation accuracy: 0.7916666666666666\n"
          ]
        }
      ]
    },
    {
      "cell_type": "markdown",
      "metadata": {
        "id": "2gmxRDnvrHcG"
      },
      "source": [
        "## Train-Validation-Test Scores "
      ]
    },
    {
      "cell_type": "code",
      "metadata": {
        "colab": {
          "base_uri": "https://localhost:8080/"
        },
        "id": "e2WWbOC3YHvU",
        "outputId": "6f7b27ae-833b-48d2-b4bf-722c8ddd4261"
      },
      "source": [
        "# Scores\n",
        "train_acc = accuracy_score(y_train, model.predict(X_train))\n",
        "val_acc = accuracy_score(y_val, model.predict(X_val))\n",
        "test_acc = accuracy_score(y_test, model.predict(X_test))\n",
        "\n",
        "print('Training Accuracy Score:', train_acc)\n",
        "print('Validation Accuracy Score:', val_acc)\n",
        "print('Testing Accuracy Score:', test_acc)"
      ],
      "execution_count": 19,
      "outputs": [
        {
          "output_type": "stream",
          "name": "stdout",
          "text": [
            "Training Accuracy Score: 1.0\n",
            "Validation Accuracy Score: 0.75\n",
            "Testing Accuracy Score: 0.7586206896551724\n"
          ]
        }
      ]
    },
    {
      "cell_type": "markdown",
      "metadata": {
        "id": "tQBI519I8-P1"
      },
      "source": [
        "## ROC Curve"
      ]
    },
    {
      "cell_type": "code",
      "metadata": {
        "colab": {
          "base_uri": "https://localhost:8080/",
          "height": 278
        },
        "id": "eyY7cphep_-A",
        "outputId": "228841fb-2138-4a63-ec0d-226f7ca20768"
      },
      "source": [
        "# Plotting ROC Curve for model_lr and model\n",
        "from sklearn.metrics import recall_score, classification_report, roc_auc_score, plot_roc_curve\n",
        "fig1 = plot_roc_curve(model_lr, X_val, y_val)\n",
        "fig2 = plot_roc_curve(model, X_val, y_val, ax = fig1.ax_);"
      ],
      "execution_count": 20,
      "outputs": [
        {
          "output_type": "display_data",
          "data": {
            "image/png": "[encoded data removed]",
            "text/plain": [
              "<Figure size 432x288 with 1 Axes>"
            ]
          },
          "metadata": {
            "needs_background": "light"
          }
        }
      ]
    },
    {
      "cell_type": "markdown",
      "metadata": {
        "id": "Rcarh7M28r54"
      },
      "source": [
        "\n",
        "\n",
        "## Permutation Importance"
      ]
    },
    {
      "cell_type": "code",
      "metadata": {
        "id": "l5HedK1BpTyO"
      },
      "source": [
        "column = 'production'\n",
        "# It's not that hard to permute (shuffle up the values) a column manually\n",
        "X_val_perm = X_val.copy()\n",
        "X_val_perm[column] = np.random.permutation(X_val_perm[column])"
      ],
      "execution_count": 21,
      "outputs": []
    },
    {
      "cell_type": "code",
      "metadata": {
        "id": "0aNYbaE7pfLx"
      },
      "source": [
        "perm_imp = permutation_importance(model, X_val, y_val, n_jobs=-1, random_state=42)"
      ],
      "execution_count": 22,
      "outputs": []
    },
    {
      "cell_type": "code",
      "metadata": {
        "colab": {
          "base_uri": "https://localhost:8080/"
        },
        "id": "MBcXzjMSpe98",
        "outputId": "dc3a5a6c-fc66-46e1-8074-b5b05ded4f63"
      },
      "source": [
        "perm_imp['importances'][:,0:1].sum()"
      ],
      "execution_count": 23,
      "outputs": [
        {
          "output_type": "execute_result",
          "data": {
            "text/plain": [
              "0.41666666666666663"
            ]
          },
          "metadata": {},
          "execution_count": 23
        }
      ]
    },
    {
      "cell_type": "code",
      "metadata": {
        "colab": {
          "base_uri": "https://localhost:8080/"
        },
        "id": "hLjWFuv0petD",
        "outputId": "5c7c3ca8-5aca-413a-cabc-435662cfae3e"
      },
      "source": [
        "data = {'imp_mean': perm_imp['importances_mean'],\n",
        "        'imp_std': perm_imp['importances_std']}\n",
        "\n",
        "importances = pd.DataFrame(data, index=X_val.columns).sort_values(by='imp_mean', ascending=False)\n",
        "# importances\n",
        "importances['imp_mean']"
      ],
      "execution_count": 24,
      "outputs": [
        {
          "output_type": "execute_result",
          "data": {
            "text/plain": [
              "totalAvailable     0.066667\n",
              "totalGain          0.058333\n",
              "robberCardsLoss    0.033333\n",
              "Unnamed: 22        0.016667\n",
              "player             0.008333\n",
              "production         0.008333\n",
              "Unnamed: 20       -0.008333\n",
              "robberCardsGain   -0.016667\n",
              "tradeGain         -0.033333\n",
              "totalLoss         -0.041667\n",
              "Name: imp_mean, dtype: float64"
            ]
          },
          "metadata": {},
          "execution_count": 24
        }
      ]
    },
    {
      "cell_type": "code",
      "metadata": {
        "colab": {
          "base_uri": "https://localhost:8080/",
          "height": 282
        },
        "id": "2XQywTN3peh6",
        "outputId": "ec485eb7-7788-443b-c44f-7c8be94ca76b"
      },
      "source": [
        "importances['imp_mean'].head(10).plot(kind='barh')"
      ],
      "execution_count": 25,
      "outputs": [
        {
          "output_type": "execute_result",
          "data": {
            "text/plain": [
              "<matplotlib.axes._subplots.AxesSubplot at 0x7fc69b38d350>"
            ]
          },
          "metadata": {},
          "execution_count": 25
        },
        {
          "output_type": "display_data",
          "data": {
            "image/png": "[encoded data removed]",
            "text/plain": [
              "<Figure size 432x288 with 1 Axes>"
            ]
          },
          "metadata": {
            "needs_background": "light"
          }
        }
      ]
    },
    {
      "cell_type": "code",
      "metadata": {
        "colab": {
          "base_uri": "https://localhost:8080/"
        },
        "id": "LSJYlM9CpzMX",
        "outputId": "1d55c2b6-0ff3-4b60-b3c7-74f7b78e1153"
      },
      "source": [
        "importances['imp_mean'].sum()"
      ],
      "execution_count": 26,
      "outputs": [
        {
          "output_type": "execute_result",
          "data": {
            "text/plain": [
              "0.09166666666666663"
            ]
          },
          "metadata": {},
          "execution_count": 26
        }
      ]
    },
    {
      "cell_type": "markdown",
      "metadata": {
        "id": "eWLo3who_GCr"
      },
      "source": [
        "### Partial Dependence Plots(PDP)\n",
        "\n"
      ]
    },
    {
      "cell_type": "markdown",
      "metadata": {
        "id": "Nx8zRKMWjSC9"
      },
      "source": [
        "- With 1 Feature Plot"
      ]
    },
    {
      "cell_type": "code",
      "metadata": {
        "id": "dNSjRqjxr-Fi"
      },
      "source": [
        "import matplotlib.pyplot as plt\n",
        "plt.rcParams['figure.dpi'] = 72\n",
        "\n",
        "from pdpbox.pdp import pdp_isolate, pdp_plot\n",
        "\n",
        "feature = 'production'\n",
        "\n",
        "isolated = pdp_isolate(\n",
        "    model=model, \n",
        "    dataset=X_val, \n",
        "    model_features=X_val.columns, \n",
        "    feature=feature\n",
        ")"
      ],
      "execution_count": 27,
      "outputs": []
    },
    {
      "cell_type": "code",
      "metadata": {
        "colab": {
          "base_uri": "https://localhost:8080/",
          "height": 648
        },
        "id": "6VDJUehjtd6M",
        "outputId": "485b6045-a356-4e27-e19a-42de33db398a"
      },
      "source": [
        "pdp_plot(isolated, feature_name=feature);"
      ],
      "execution_count": 28,
      "outputs": [
        {
          "output_type": "stream",
          "name": "stderr",
          "text": [
            "findfont: Font family ['Arial'] not found. Falling back to DejaVu Sans.\n",
            "findfont: Font family ['Arial'] not found. Falling back to DejaVu Sans.\n",
            "findfont: Font family ['Arial'] not found. Falling back to DejaVu Sans.\n",
            "findfont: Font family ['Arial'] not found. Falling back to DejaVu Sans.\n"
          ]
        },
        {
          "output_type": "display_data",
          "data": {
            "image/png": "[encoded data removed]",
            "text/plain": [
              "<Figure size 1080x684 with 2 Axes>"
            ]
          },
          "metadata": {
            "needs_background": "light"
          }
        }
      ]
    },
    {
      "cell_type": "markdown",
      "metadata": {
        "id": "c7QA7VY0jZ2S"
      },
      "source": [
        "- With 2 Features PDP_Interact_Plot"
      ]
    },
    {
      "cell_type": "code",
      "metadata": {
        "colab": {
          "base_uri": "https://localhost:8080/",
          "height": 598
        },
        "id": "8cdrEETeterD",
        "outputId": "426f1918-0795-4114-bc63-6f2b814cc72a"
      },
      "source": [
        "from pdpbox.pdp import pdp_interact, pdp_interact_plot\n",
        "\n",
        "features = ['production', 'robberCardsGain']\n",
        "\n",
        "interaction = pdp_interact(\n",
        "    model=model, \n",
        "    dataset=X_val, \n",
        "    model_features=X_val.columns,\n",
        "    features=features\n",
        ")\n",
        "pdp_interact_plot(interaction, plot_type='grid', \n",
        "                  feature_names=features);"
      ],
      "execution_count": 29,
      "outputs": [
        {
          "output_type": "stream",
          "name": "stderr",
          "text": [
            "findfont: Font family ['Arial'] not found. Falling back to DejaVu Sans.\n"
          ]
        },
        {
          "output_type": "display_data",
          "data": {
            "image/png": "[encoded data removed]",
            "text/plain": [
              "<Figure size 540x684 with 3 Axes>"
            ]
          },
          "metadata": {
            "needs_background": "light"
          }
        }
      ]
    },
    {
      "cell_type": "markdown",
      "metadata": {
        "id": "Fz6K2RlI9Mkm"
      },
      "source": [
        "## Confusion Matrix"
      ]
    },
    {
      "cell_type": "code",
      "metadata": {
        "colab": {
          "base_uri": "https://localhost:8080/",
          "height": 284
        },
        "id": "t0llv289e8wj",
        "outputId": "19699fe6-8316-4ed1-98fd-a02f2ecadc32"
      },
      "source": [
        "plot_confusion_matrix(\n",
        "    model,\n",
        "    X_val, # BE SURE TO USE VALIDATION DATA\n",
        "    y_val,\n",
        "    values_format='.0f',\n",
        "    display_labels=['Not_Win','Win']\n",
        ");"
      ],
      "execution_count": 30,
      "outputs": [
        {
          "output_type": "display_data",
          "data": {
            "image/png": "[encoded data removed]",
            "text/plain": [
              "<Figure size 432x288 with 2 Axes>"
            ]
          },
          "metadata": {
            "needs_background": "light"
          }
        }
      ]
    },
    {
      "cell_type": "markdown",
      "metadata": {
        "id": "kK3XhMeHdAu0"
      },
      "source": [
        "- True Negative(TN) and True Positive(TP) is 18 out of 24 so it predicted correctly.\n",
        "- False Negative(FN) and False Positive(FP) are 6 out of 24 so it is misclassified."
      ]
    },
    {
      "cell_type": "markdown",
      "metadata": {
        "id": "EHM1GysHAWsO"
      },
      "source": [
        "## Classification Report"
      ]
    },
    {
      "cell_type": "code",
      "metadata": {
        "colab": {
          "base_uri": "https://localhost:8080/"
        },
        "id": "zZ45J9nlfR-x",
        "outputId": "4d334631-9c0d-4326-bdc7-7859a6cdaeb2"
      },
      "source": [
        "# metrics\n",
        "from sklearn.metrics import accuracy_score, plot_confusion_matrix, precision_score \n",
        "from sklearn.metrics import recall_score, classification_report, roc_auc_score, plot_roc_curve\n",
        "\n",
        "print(classification_report(y_val, model.predict(X_val)))"
      ],
      "execution_count": 31,
      "outputs": [
        {
          "output_type": "stream",
          "name": "stdout",
          "text": [
            "              precision    recall  f1-score   support\n",
            "\n",
            "           0       0.88      0.78      0.82        18\n",
            "           1       0.50      0.67      0.57         6\n",
            "\n",
            "    accuracy                           0.75        24\n",
            "   macro avg       0.69      0.72      0.70        24\n",
            "weighted avg       0.78      0.75      0.76        24\n",
            "\n"
          ]
        }
      ]
    },
    {
      "cell_type": "markdown",
      "metadata": {
        "id": "EoWOhMFXBk1H"
      },
      "source": [
        "#                                                   In-Depth Analysis    "
      ]
    },
    {
      "cell_type": "markdown",
      "metadata": {
        "id": "TcYrl77MB7di"
      },
      "source": [
        " I have a total of 32 attributes in my dataset, and I also omitted the null value column. For the target variable, I chose the points column, and I wanted to check the victory probability, so I converted to binary classification and did the wrangling. My baseline accuracy is flawless (0.74), and for the model, I used three different models: logistic regression, RandomForest, and gradient boosting, with logistic regression training and validation accuracy scores of 0.85 and 0.70, respectively. Next, I used randomized search as a tuning model, and my best score is 0.80, indicating that it is more valuable than logistic regression. The roc curve (AUC = 0.81) also showed this. The confusion matrix shows that TN and TP are accurately predicted, whereas FN and FP are misclassified. According to the classification report,the precision is 0.50 and recall is 0.67."
      ]
    }
  ]
}